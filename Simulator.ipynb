{
 "cells": [
  {
   "cell_type": "code",
   "execution_count": 2,
   "id": "2e01cf70",
   "metadata": {},
   "outputs": [
    {
     "name": "stdout",
     "output_type": "stream",
     "text": [
      "Note: you may need to restart the kernel to use updated packages.\n"
     ]
    }
   ],
   "source": [
    "%pip install --quiet numpy pandas scipy cvxpy osqp pyyaml tqdm pytest ipykernel\n",
    "import numpy as np, pandas as pd, yaml, pathlib, subprocess, sys, json, textwrap"
   ]
  },
  {
   "cell_type": "code",
   "execution_count": 3,
   "id": "f78207f2",
   "metadata": {},
   "outputs": [],
   "source": [
    "from pathlib import Path\n",
    "for d in [\"data\", \"config\", \"results\"]:\n",
    "    Path(d).mkdir(exist_ok=True)"
   ]
  },
  {
   "cell_type": "code",
   "execution_count": 6,
   "id": "44aeca02",
   "metadata": {},
   "outputs": [
    {
     "name": "stdout",
     "output_type": "stream",
     "text": [
      "✔ config/default.yml written\n"
     ]
    }
   ],
   "source": [
    "config = {\n",
    "    # ---- universe & time ----\n",
    "    \"universe\": \"RUSSELL3000\",\n",
    "    \"start_date\": \"2023-01-03\",\n",
    "    \"end_date\":   \"2024-12-31\",\n",
    "    # ---- mean-variance params ----\n",
    "    \"risk_aversion_lambda\": 2.5e-6,\n",
    "    \"bootstrap_corr_rho\": 0.10,\n",
    "    \"constraints\": {\n",
    "        \"max_leverage\": 5.0,\n",
    "        \"max_sector_weight\": 0.20,\n",
    "        \"max_name_weight\": 0.05,\n",
    "        \"max_turnover\": 0.02,\n",
    "        \"max_adv_fraction\": 0.05,\n",
    "    },\n",
    "    # ---- PoV sampling ----\n",
    "    \"pareto_alpha\": 0.80,\n",
    "    \"pareto_lower_bp\": 2,\n",
    "    \"pareto_upper_bp\": 15,\n",
    "    \"resample_prob_p\": 0.40,\n",
    "    # ---- paths ----\n",
    "    \"raw_data_path\": \"data\",\n",
    "    \"processed_data_path\": \"data\",\n",
    "    \"results_path\": \"results\",\n",
    "}\n",
    "\n",
    "with open(\"config/default.yml\", \"w\") as f:\n",
    "    yaml.safe_dump(config, f)\n",
    "print(\"✔ config/default.yml written\")\n"
   ]
  }
 ],
 "metadata": {
  "kernelspec": {
   "display_name": "Python 3",
   "language": "python",
   "name": "python3"
  },
  "language_info": {
   "codemirror_mode": {
    "name": "ipython",
    "version": 3
   },
   "file_extension": ".py",
   "mimetype": "text/x-python",
   "name": "python",
   "nbconvert_exporter": "python",
   "pygments_lexer": "ipython3",
   "version": "3.11.9"
  }
 },
 "nbformat": 4,
 "nbformat_minor": 5
}
